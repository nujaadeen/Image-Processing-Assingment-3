{
 "cells": [
  {
   "cell_type": "code",
   "execution_count": 2,
   "metadata": {},
   "outputs": [],
   "source": [
    "import numpy as np"
   ]
  },
  {
   "cell_type": "code",
   "execution_count": 37,
   "metadata": {},
   "outputs": [
    {
     "name": "stdout",
     "output_type": "stream",
     "text": [
      "eigen values = \n",
      " [ 4. -1. -6.]\n",
      "eigen values = \n",
      " [[-1.  1.  0.]\n",
      " [ 1. -1.  1.]\n",
      " [-1.  0.  2.]]\n"
     ]
    }
   ],
   "source": [
    "A = np.array([[-11,-10,5],[5,4,-5],[-20,-20,4]])\n",
    "eigen_values, eigen_vectors = np.linalg.eig(A)\n",
    "print(\"eigen values = \\n\", eigen_values)\n",
    "\n",
    "eigen_vectors = np.round(eigen_vectors,3)\n",
    "for i in range(3):\n",
    "    eigen_vectors[:,i] = eigen_vectors[:,i]/(min(eigen_vectors[:,i][eigen_vectors[:,i] != 0]))\n",
    "print(\"eigen values = \\n\", eigen_vectors)"
   ]
  },
  {
   "cell_type": "code",
   "execution_count": 77,
   "metadata": {},
   "outputs": [
    {
     "name": "stdout",
     "output_type": "stream",
     "text": [
      "eigen vector = \n",
      " [[-0. ]\n",
      " [ 0.5]\n",
      " [ 1. ]]\n",
      "eigen value = -6.0\n"
     ]
    }
   ],
   "source": [
    "#power method\n",
    "u = np.array([[1],[1],[1]])\n",
    "for j in range(60):\n",
    "    v = A @ u\n",
    "    u = v\n",
    "    u = np.round(u,3)\n",
    "    u = u/min(u[u!=0])\n",
    "print(\"eigen vector = \\n\",u)\n",
    "\n",
    "Lambda1 = np.round(((u.T @ A @ u)/np.sum(np.square(u))))[0][0]\n",
    "print(\"eigen value =\",Lambda1)"
   ]
  },
  {
   "cell_type": "code",
   "execution_count": 80,
   "metadata": {},
   "outputs": [
    {
     "name": "stdout",
     "output_type": "stream",
     "text": [
      "eigen vector = \n",
      " [[-1.]\n",
      " [ 1.]\n",
      " [-1.]]\n",
      "eigen value = 4.0\n"
     ]
    }
   ],
   "source": [
    "#power method\n",
    "temp_A = A - Lambda1*np.identity(3)\n",
    "u = np.array([[1],[1],[1]])\n",
    "for j in range(100):\n",
    "    v = temp_A @ u\n",
    "    u = v\n",
    "    u = np.round(u,3)\n",
    "    u = u/min(u[u!=0])\n",
    "print(\"eigen vector = \\n\",u)\n",
    "\n",
    "Lambda2 = np.round(((u.T @ temp_A @ u)/np.sum(np.square(u))))[0][0] + Lambda1 \n",
    "print(\"eigen value =\", Lambda2)\n"
   ]
  },
  {
   "cell_type": "code",
   "execution_count": 87,
   "metadata": {},
   "outputs": [
    {
     "name": "stdout",
     "output_type": "stream",
     "text": [
      "eigen vector = \n",
      " [[ 1.]\n",
      " [-1.]\n",
      " [-0.]]\n",
      "eigen value = -1.0\n"
     ]
    }
   ],
   "source": [
    "# inverse power method\n",
    "temp_lambda = 1\n",
    "temp_A2 = A - temp_lambda*np.identity(3)\n",
    "u = np.array([[1],[1],[1]])\n",
    "for j in range(100):\n",
    "    v = np.linalg.inv(temp_A2) @ u\n",
    "    u = v\n",
    "    u = np.round(u,3)\n",
    "    u = u/min(u[u!=0])\n",
    "\n",
    "u = np.round(u,1)\n",
    "print(\"eigen vector = \\n\",u)\n",
    "\n",
    "Lambda2 = np.round(((u.T @ A @ u)/np.sum(np.square(u))))[0][0]\n",
    "print(\"eigen value =\", Lambda2)"
   ]
  }
 ],
 "metadata": {
  "interpreter": {
   "hash": "fffff532a40ef30061b2c21fbdf0ad63dbbec83c48bfab354e8a499d7b348239"
  },
  "kernelspec": {
   "display_name": "Python 3.10.2 64-bit (system)",
   "language": "python",
   "name": "python3"
  },
  "language_info": {
   "codemirror_mode": {
    "name": "ipython",
    "version": 3
   },
   "file_extension": ".py",
   "mimetype": "text/x-python",
   "name": "python",
   "nbconvert_exporter": "python",
   "pygments_lexer": "ipython3",
   "version": "3.10.2"
  },
  "orig_nbformat": 4
 },
 "nbformat": 4,
 "nbformat_minor": 2
}
